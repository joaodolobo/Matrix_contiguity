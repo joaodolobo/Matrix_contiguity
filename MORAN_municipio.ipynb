{
 "cells": [
  {
   "cell_type": "code",
   "execution_count": 1,
   "metadata": {},
   "outputs": [
    {
     "name": "stderr",
     "output_type": "stream",
     "text": [
      "C:\\Users\\jwolf\\AppData\\Local\\conda\\conda\\envs\\pandas\\lib\\site-packages\\pysal\\model\\spvcm\\abstracts.py:10: UserWarning: The `dill` module is required to use the sqlite backend fully.\n",
      "  from .sqlite import head_to_sql, start_sql\n"
     ]
    }
   ],
   "source": [
    "import os\n",
    "import pysal as ps \n",
    "import pandas as pd \n",
    "import numpy as np\n",
    "import geopandas as gpd\n",
    "import matplotlib.pyplot as plt\n",
    "import pysal.lib\n",
    "import pysal.explore\n",
    "import pysal.viz\n",
    "import pysal.model"
   ]
  },
  {
   "cell_type": "code",
   "execution_count": 2,
   "metadata": {},
   "outputs": [
    {
     "ename": "FileNotFoundError",
     "evalue": "[WinError 3] The system cannot find the path specified: 'C:/Users/jan_lenovo/Documents/MEGA/03_Doutoramento/06_Base de dados/School closure'",
     "output_type": "error",
     "traceback": [
      "\u001b[1;31m---------------------------------------------------------------------------\u001b[0m",
      "\u001b[1;31mFileNotFoundError\u001b[0m                         Traceback (most recent call last)",
      "\u001b[1;32m<ipython-input-2-59936f877a6e>\u001b[0m in \u001b[0;36m<module>\u001b[1;34m()\u001b[0m\n\u001b[1;32m----> 1\u001b[1;33m \u001b[0mos\u001b[0m\u001b[1;33m.\u001b[0m\u001b[0mchdir\u001b[0m\u001b[1;33m(\u001b[0m\u001b[1;34m'C:/Users/jan_lenovo/Documents/MEGA/03_Doutoramento/06_Base de dados/School closure'\u001b[0m\u001b[1;33m)\u001b[0m\u001b[1;33m\u001b[0m\u001b[0m\n\u001b[0m",
      "\u001b[1;31mFileNotFoundError\u001b[0m: [WinError 3] The system cannot find the path specified: 'C:/Users/jan_lenovo/Documents/MEGA/03_Doutoramento/06_Base de dados/School closure'"
     ]
    }
   ],
   "source": [
    "os.chdir('C:/Users/jan_lenovo/Documents/MEGA/03_Doutoramento/06_Base de dados/School closure')"
   ]
  },
  {
   "cell_type": "code",
   "execution_count": null,
   "metadata": {},
   "outputs": [],
   "source": [
    "path = \"C:/Users/jan_lenovo/Documents/MEGA/03_Doutoramento/05_SIG/Administrativos/Municípios/Cont_AAD_CAOP2018/\\\n",
    "Cont_AAD_CAOP2018.shp\"\n",
    "gdf_freguesias_CAOP2018 = gpd.read_file (path)\n",
    "gdf_freguesias_CAOP2018['code_mun'] = gdf_freguesias_CAOP2018['Dicofre'].str.slice(0,4)"
   ]
  },
  {
   "cell_type": "code",
   "execution_count": null,
   "metadata": {},
   "outputs": [],
   "source": [
    "df_correspond_nuts3 = pd.read_csv(\"CODIGOS_MUNICIPIOS_NUTS3.csv\",engine='python', header = 0,\\\n",
    "                                  sep = \";\",dtype= {'Cod_mun': str}, decimal=\",\")\n",
    "df_correspond_nuts3.dropna(inplace = True)"
   ]
  },
  {
   "cell_type": "code",
   "execution_count": null,
   "metadata": {},
   "outputs": [],
   "source": [
    "# pd.merge(gdf_freguesias_CAOP2018, df_correspond_nuts3, how = left,  left_on = \"code_mun\")\n",
    "gdf_freguesias_CAOP2018= pd.merge(gdf_freguesias_CAOP2018, df_correspond_nuts3, how='left', left_on = \"code_mun\",right_on= \"Cod_mun\")"
   ]
  },
  {
   "cell_type": "code",
   "execution_count": null,
   "metadata": {},
   "outputs": [],
   "source": [
    "#gdf_freguesias_CAOP2018.to_file(\"C:/Users/jwolf/Documents/MEGA/03_Doutoramento/05_SIG/Administrativos/\", driver = 'GeoJSON')"
   ]
  },
  {
   "cell_type": "code",
   "execution_count": null,
   "metadata": {},
   "outputs": [],
   "source": [
    "gdf_freguesias_CAOP2018.head(3)"
   ]
  },
  {
   "cell_type": "code",
   "execution_count": null,
   "metadata": {},
   "outputs": [],
   "source": [
    "# gdf_freguesias_CAOP2018.plot(figsize = [10,10])\n",
    "gdf_freguesias_CAOP2018.drop(['Cod_mun'], axis=1, inplace = True)"
   ]
  },
  {
   "cell_type": "code",
   "execution_count": null,
   "metadata": {},
   "outputs": [],
   "source": [
    "#3763 código epsg etrs89 e Portugal TM06\n",
    "#WGS84 = epsg 4326\n",
    "\n",
    "gdf_freguesias_CAOP2018 = gdf_freguesias_CAOP2018.to_crs(epsg=3763)"
   ]
  },
  {
   "cell_type": "code",
   "execution_count": null,
   "metadata": {},
   "outputs": [],
   "source": [
    "gdf_municipios_CAOP2018 = gdf_freguesias_CAOP2018.dissolve(by='code_mun')\n",
    "gdf_municipios_CAOP2018.drop(['Dicofre','Freguesia', 'Des_Simpli', 'TAA'], axis = 1, inplace = True)"
   ]
  },
  {
   "cell_type": "code",
   "execution_count": null,
   "metadata": {},
   "outputs": [],
   "source": [
    "df_schools = pd.read_csv(\"C:/Users/jan_lenovo/Documents/MEGA/03_Doutoramento/05_SIG/Muhamad/Schools.csv\",\\\n",
    "                         engine='python', header = 0, sep = \";\",dtype= {'Code': str}, decimal=\",\")\n",
    "gdf_municipios_CAOP2018 = pd.merge(gdf_municipios_CAOP2018, df_schools, how='left', left_on=['code_mun'],\\\n",
    "                                   right_on = ['Code'])"
   ]
  },
  {
   "cell_type": "code",
   "execution_count": null,
   "metadata": {},
   "outputs": [],
   "source": [
    "gdf_municipios_CAOP2018.head(2)"
   ]
  },
  {
   "cell_type": "code",
   "execution_count": null,
   "metadata": {},
   "outputs": [],
   "source": [
    "df_TFR = pd.read_csv(\"C:/Users/jwolf/Documents/MEGA/03_Doutoramento/05_SIG/Muhamad/ISF_2017_pivot.csv\",\\\n",
    "                         engine='python', header = 0, sep = \";\",dtype= {'Code': str}, decimal=\",\")\n",
    "gdf_municipios_CAOP2018 = pd.merge(gdf_municipios_CAOP2018, df_TFR, how='left', left_on=['Code'],\\\n",
    "                                   right_on = ['code'])"
   ]
  },
  {
   "cell_type": "code",
   "execution_count": null,
   "metadata": {},
   "outputs": [],
   "source": [
    "gdf_municipios_CAOP2018.head(2)"
   ]
  },
  {
   "cell_type": "code",
   "execution_count": null,
   "metadata": {
    "scrolled": true
   },
   "outputs": [],
   "source": [
    "gdf_freguesias_CAOP2018.plot(figsize = (10,10))"
   ]
  },
  {
   "cell_type": "code",
   "execution_count": null,
   "metadata": {},
   "outputs": [],
   "source": [
    "# w3= pysal.lib.weights.KNN.from_shapefile(path, k= 3)\n",
    "matriz_dist_3_vizinhos= pysal.lib.weights.KNN.from_dataframe(gdf_municipios_CAOP2018, k= 3)"
   ]
  },
  {
   "cell_type": "code",
   "execution_count": null,
   "metadata": {},
   "outputs": [],
   "source": [
    "w_distancia = pysal.lib.weights.DistanceBand.from_dataframe(gdf_municipios_CAOP2018, p = 2, alpha=-2, threshold= 30000)"
   ]
  },
  {
   "cell_type": "code",
   "execution_count": null,
   "metadata": {},
   "outputs": [],
   "source": [
    "y = gdf_municipios_CAOP2018['TX_99_17']\n",
    "y2= gdf_municipios_CAOP2018['2017']\n",
    "moran_3 = pysal.explore.esda.Moran_Local(y, matriz_dist_3_vizinhos, transformation='r', permutations=999)\n",
    "moran_dist = pysal.explore.esda.Moran_Local(y, w_distancia, transformation='r', permutations=999)\n",
    "moran_3_TFR = pysal.explore.esda.Moran_Local(y2, matriz_dist_3_vizinhos, transformation='r', permutations=999)\n",
    "moran_dist_TFR = pysal.explore.esda.Moran_Local(y2, w_distancia, transformation='r', permutations=999)"
   ]
  },
  {
   "cell_type": "code",
   "execution_count": null,
   "metadata": {},
   "outputs": [],
   "source": [
    "moran_I = pysal.explore.esda.Moran(y2, w_distancia, transformation='r', permutations=999)\n",
    "\n",
    "\n",
    "print(\"p value =\", moran_I.p_norm, \"Moran I = \", moran_I.I,\"expected value under normality assumption\", moran_I.EI) "
   ]
  },
  {
   "cell_type": "code",
   "execution_count": null,
   "metadata": {},
   "outputs": [],
   "source": [
    "from pysal.viz.splot.esda import lisa_cluster\n",
    "gdf_municipios_CAOP2018_2 = gdf_municipios_CAOP2018.copy()\n",
    "\n",
    "# fig, ax = plt.subplots()\n",
    "# ax.plot(x, y)\n",
    "# ax.set_title('Simple plot')\n",
    "\n",
    "fig, axs = plt.subplots(1,2,figsize = (10,10))\n",
    "cartogramas = [(moran_3_TFR, '3_neighbors'), (moran_dist_TFR, '20_km')]\n",
    "i=0 \n",
    "for x in cartogramas:\n",
    "    legenda = {'loc': 'upper left', 'bbox_to_anchor': (0.8, 0.28), 'title': x[1]}\n",
    "    lisa_cluster(x[0], gdf_municipios_CAOP2018_2, p=0.1, ax = axs [i], legend_kwds= legenda)\n",
    "    i += 1\n"
   ]
  },
  {
   "cell_type": "code",
   "execution_count": null,
   "metadata": {},
   "outputs": [],
   "source": [
    "gdf_municipios_CAOP2018.plot()"
   ]
  },
  {
   "cell_type": "code",
   "execution_count": null,
   "metadata": {},
   "outputs": [],
   "source": [
    "w3= pysal.lib.weights.KNN.from_shapefile(path, k= 3)"
   ]
  },
  {
   "cell_type": "code",
   "execution_count": null,
   "metadata": {},
   "outputs": [],
   "source": [
    "gdf_municipios_CAOP2018.columns"
   ]
  },
  {
   "cell_type": "code",
   "execution_count": null,
   "metadata": {},
   "outputs": [],
   "source": [
    "gdf_municipios_CAOP2018"
   ]
  },
  {
   "cell_type": "code",
   "execution_count": null,
   "metadata": {},
   "outputs": [],
   "source": [
    "fig, ax = plt.subplots(1, figsize=(10, 6))\n",
    "# ax.axis('off')\n",
    "gdf_freguesias_CAOP2018.plot(ax = ax,column='AREA_T_Ha')\n",
    "# gdf_freguesias_CAOP2018.plot(ax = ax , linewidth=0, column = 0)"
   ]
  }
 ],
 "metadata": {
  "kernelspec": {
   "display_name": "Python 3",
   "language": "python",
   "name": "python3"
  },
  "language_info": {
   "codemirror_mode": {
    "name": "ipython",
    "version": 3
   },
   "file_extension": ".py",
   "mimetype": "text/x-python",
   "name": "python",
   "nbconvert_exporter": "python",
   "pygments_lexer": "ipython3",
   "version": "3.6.6"
  }
 },
 "nbformat": 4,
 "nbformat_minor": 2
}
