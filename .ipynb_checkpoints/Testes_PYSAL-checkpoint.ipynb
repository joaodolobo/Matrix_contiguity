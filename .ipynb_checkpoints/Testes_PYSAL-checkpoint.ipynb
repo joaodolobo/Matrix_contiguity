{
 "cells": [
  {
   "cell_type": "code",
   "execution_count": 52,
   "metadata": {},
   "outputs": [
    {
     "ename": "SyntaxError",
     "evalue": "invalid syntax (<ipython-input-52-a9237484ccc3>, line 7)",
     "output_type": "error",
     "traceback": [
      "\u001b[1;36m  File \u001b[1;32m\"<ipython-input-52-a9237484ccc3>\"\u001b[1;36m, line \u001b[1;32m7\u001b[0m\n\u001b[1;33m    import pysal.lib from pysal\u001b[0m\n\u001b[1;37m                        ^\u001b[0m\n\u001b[1;31mSyntaxError\u001b[0m\u001b[1;31m:\u001b[0m invalid syntax\n"
     ]
    }
   ],
   "source": [
    "import pysal as ps \n",
    "import pandas as pd \n",
    "import numpy as np\n",
    "import geopandas as gpd\n",
    "from pysal import weights, examples\n",
    "from pysal.weights.weights import W"
   ]
  },
  {
   "cell_type": "code",
   "execution_count": 19,
   "metadata": {
    "scrolled": true
   },
   "outputs": [
    {
     "data": {
      "text/plain": [
       "['10740',\n",
       " 'arcgis',\n",
       " 'baltim',\n",
       " 'book',\n",
       " 'burkitt',\n",
       " 'calemp',\n",
       " 'chicago',\n",
       " 'clearwater',\n",
       " 'columbus',\n",
       " 'desmith',\n",
       " 'geodanet',\n",
       " 'georgia',\n",
       " 'juvenile',\n",
       " 'Line',\n",
       " 'londonhp',\n",
       " 'mexico',\n",
       " 'nat',\n",
       " 'networks',\n",
       " 'newHaven',\n",
       " 'nyc_bikes',\n",
       " 'Point',\n",
       " 'Polygon',\n",
       " 'Polygon_Holes',\n",
       " 'sacramento2',\n",
       " 'sids2',\n",
       " 'snow_maps',\n",
       " 'south',\n",
       " 'stl',\n",
       " 'street_net_pts',\n",
       " 'taz',\n",
       " 'tokyo',\n",
       " 'us_income',\n",
       " 'virginia',\n",
       " 'wmat']"
      ]
     },
     "execution_count": 19,
     "metadata": {},
     "output_type": "execute_result"
    }
   ],
   "source": [
    "ps.examples.available()\n",
    "ps.examples.explain('mexico')\n",
    "     \n",
    "# ps.lib.weights"
   ]
  },
  {
   "cell_type": "code",
   "execution_count": 78,
   "metadata": {
    "scrolled": true
   },
   "outputs": [
    {
     "data": {
      "text/plain": [
       "['Dicofre',\n",
       " 'Freguesia',\n",
       " 'Concelho',\n",
       " 'Distrito',\n",
       " 'TAA',\n",
       " 'AREA_EA_Ha',\n",
       " 'AREA_T_Ha',\n",
       " 'Des_Simpli']"
      ]
     },
     "execution_count": 78,
     "metadata": {},
     "output_type": "execute_result"
    }
   ],
   "source": [
    "path = \"C:/Users/jan/Documents/MEGA/03_Doutoramento/05_SIG/Administrativos/Freguesias/Freguesia_CAOP_2016\"\n",
    "# gdf = gpd.read_file (path)\n",
    "freguesias_shp = ps.open(path + '.shp')\n",
    "freguesias_dbf = ps.open(path + '.dbf')\n",
    "freguesias_dbf.header"
   ]
  },
  {
   "cell_type": "code",
   "execution_count": null,
   "metadata": {},
   "outputs": [],
   "source": [
    "gdf.plot(figsize=(10, 10), edgecolor='k')"
   ]
  },
  {
   "cell_type": "code",
   "execution_count": 72,
   "metadata": {},
   "outputs": [],
   "source": [
    "point_file = ps.open(path)\n",
    "\n",
    "# print(freguesias)"
   ]
  },
  {
   "cell_type": "code",
   "execution_count": null,
   "metadata": {},
   "outputs": [],
   "source": [
    "ps.weights.Rook.from_shapefile(path)\n",
    "ps.Moran_Local"
   ]
  }
 ],
 "metadata": {
  "kernelspec": {
   "display_name": "Python 3",
   "language": "python",
   "name": "python3"
  },
  "language_info": {
   "codemirror_mode": {
    "name": "ipython",
    "version": 3
   },
   "file_extension": ".py",
   "mimetype": "text/x-python",
   "name": "python",
   "nbconvert_exporter": "python",
   "pygments_lexer": "ipython3",
   "version": "3.6.6"
  }
 },
 "nbformat": 4,
 "nbformat_minor": 2
}
