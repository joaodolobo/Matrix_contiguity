{
 "cells": [
  {
   "cell_type": "code",
   "execution_count": null,
   "metadata": {},
   "outputs": [],
   "source": [
    "import libpysal\n",
    "import esda\n",
    "\n",
    "Freguesias_CAOP2016 = gpd.read_file (\"C:/Users/jwolf/Documents/MEGA/03_Doutoramento/05_SIG/\\\n",
    "Administrativos/Freguesias/Freguesia_CAOP_2016.shp\")\n",
    "\n",
    "# ax = Freguesias_CAOP2016.plot(figsize=(15, 15), alpha=0.5, edgecolor='k')\n",
    "# qW = ps.queen_from_shapefile(Freguesias_CAOP2016)\n",
    "\n",
    "# w = ps.lat2W(5, 5)\n",
    "help(ps)\n",
    "libpysal.weights.Queen\n"
   ]
  }
 ],
 "metadata": {
  "kernelspec": {
   "display_name": "Python 3",
   "language": "python",
   "name": "python3"
  },
  "language_info": {
   "codemirror_mode": {
    "name": "ipython",
    "version": 3
   },
   "file_extension": ".py",
   "mimetype": "text/x-python",
   "name": "python",
   "nbconvert_exporter": "python",
   "pygments_lexer": "ipython3",
   "version": "3.6.6"
  }
 },
 "nbformat": 4,
 "nbformat_minor": 2
}
