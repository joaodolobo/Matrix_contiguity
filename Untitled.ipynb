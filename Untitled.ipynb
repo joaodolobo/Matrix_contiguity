{
 "cells": [
  {
   "cell_type": "code",
   "execution_count": 7,
   "metadata": {},
   "outputs": [
    {
     "ename": "AttributeError",
     "evalue": "module 'pysal' has no attribute 'examples'",
     "output_type": "error",
     "traceback": [
      "\u001b[1;31m---------------------------------------------------------------------------\u001b[0m",
      "\u001b[1;31mAttributeError\u001b[0m                            Traceback (most recent call last)",
      "\u001b[1;32m<ipython-input-7-57e1d01fa31b>\u001b[0m in \u001b[0;36m<module>\u001b[1;34m()\u001b[0m\n\u001b[0;32m     13\u001b[0m \u001b[1;31m# help(weights)\u001b[0m\u001b[1;33m\u001b[0m\u001b[1;33m\u001b[0m\u001b[0m\n\u001b[0;32m     14\u001b[0m \u001b[1;31m# libpysal.weights.Queen\u001b[0m\u001b[1;33m\u001b[0m\u001b[1;33m\u001b[0m\u001b[0m\n\u001b[1;32m---> 15\u001b[1;33m \u001b[0mps\u001b[0m\u001b[1;33m.\u001b[0m\u001b[0mexamples\u001b[0m\u001b[1;33m.\u001b[0m\u001b[0mavailable\u001b[0m\u001b[1;33m(\u001b[0m\u001b[1;33m)\u001b[0m\u001b[1;33m\u001b[0m\u001b[0m\n\u001b[0m",
      "\u001b[1;31mAttributeError\u001b[0m: module 'pysal' has no attribute 'examples'"
     ]
    }
   ],
   "source": [
    "import pysal as ps\n",
    "import geopandas as gpd\n",
    "import contextily as ctx\n",
    "from pysal.lib import weights\n",
    "\n",
    "\n",
    "Freguesias_CAOP2016 = gpd.read_file (\"C:/Users/jwolf/Documents/MEGA/03_Doutoramento/05_SIG/\\\n",
    "Administrativos/Freguesias/Freguesia_CAOP_2016.shp\")\n",
    "\n",
    "# ax = Freguesias_CAOP2016.plot(figsize=(15, 15), alpha=0.5, edgecolor='k')\n",
    "# qW = ps.queen_from_shapefile(Freguesias_CAOP2016)\n",
    "\n",
    "# w = ps.lat2W(5, 5)\n",
    "# help(weights)\n",
    "# libpysal.weights.Queen\n",
    "ps.examples.available()\n",
    "\n"
   ]
  }
 ],
 "metadata": {
  "kernelspec": {
   "display_name": "Python 3",
   "language": "python",
   "name": "python3"
  },
  "language_info": {
   "codemirror_mode": {
    "name": "ipython",
    "version": 3
   },
   "file_extension": ".py",
   "mimetype": "text/x-python",
   "name": "python",
   "nbconvert_exporter": "python",
   "pygments_lexer": "ipython3",
   "version": "3.6.6"
  }
 },
 "nbformat": 4,
 "nbformat_minor": 2
}
